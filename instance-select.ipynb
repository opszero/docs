{
 "cells": [
  {
   "cell_type": "markdown",
   "metadata": {},
   "source": [
    "# instance-select\n",
    "\n",
    "`instance-select` is a command line utility to find low cost EC2 instances.\n",
    "There are many EC2 instances that can be used at low costs but most people tend\n",
    "to just use the c, m or t type instances. `instance-select` uncovers instances\n",
    "that are just as powerful and at lower costs.\n",
    "\n",
    "`instance-select` is an open source command line app and can easily be embedded within\n",
    "existing workflows. It is built on top of the open source project from [Vantage EC2Instances.info](https://github.com/vantage-sh/ec2instances.info).\n",
    "\n",
    "## Example\n",
    "\n",
    "`instance-select --region us-east-1 --vcpus 1 --memory 16 --operating-system linux --arch x86_64 --cheapest spot`\n",
    "\n",
    "The output:\n",
    "\n",
    "```json\n",
    "{\n",
    "    \"r7a.medium\": {\n",
    "        \"ondemand\": 0.07608,\n",
    "        \"spot_avg\": 0.038801, \n",
    "        \"spot_max\": 0.041100, \n",
    "        \"spot_min\": 0.038900\n",
    "    }\n",
    "}\n",
    "```\n"
   ]
  }
 ],
 "metadata": {
  "kernelspec": {
   "display_name": "Python 3",
   "language": "python",
   "name": "python3"
  },
  "language_info": {
   "name": "python",
   "version": "3.10.13"
  }
 },
 "nbformat": 4,
 "nbformat_minor": 2
}
