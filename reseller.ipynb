{
 "cells": [
  {
   "cell_type": "markdown",
   "metadata": {},
   "source": [
    "# Reseller\n",
    "\n",
    "## Group Billing & Reserved Instances\n",
    "\n",
    "If you join our Group Billing we can provide you access to CloudCheckr a Cloud\n",
    "cost optimization tool. We can then do billing optimizations on your behalf\n",
    "including purchasing Reserved Instances for EC2, RDS, and Redshift.\n",
    "\n",
    " - Ingram Micro. Is an AWS Advanced Partner that provides discounts and benefits\n",
    "   to AWS users directly from AWS.\n",
    " - opsZero / Customer Accounts. Ingram Micro provides a payer account. This\n",
    "   account exists only to connect your accounts for billing purposes.\n",
    " - Customer Account. Your account that you will continue to own and operate. The\n",
    "   only difference being that you will now pay opsZero your AWS bill instead of \n",
    "   AWS directly."
   ]
  },
  {
   "cell_type": "code",
   "execution_count": null,
   "metadata": {},
   "outputs": [],
   "source": [
    "%%capture --no-display\n",
    "\n",
    "from diagrams import Cluster, Diagram\n",
    "from diagrams.aws.management import Organizations, OrganizationsAccount, OrganizationsOrganizationalUnit\n",
    "from diagrams.aws.cost import CostManagement\n",
    "\n",
    "with Diagram(\"Group Billing\", show=False) as diag:\n",
    "    ingram = Organizations(\"AWS / Ingram Micro (Distributor)\")\n",
    "\n",
    "    aws >> ingram\n",
    "\n",
    "    bill = CostManagement(\"opsZero AWS (Bill)\")\n",
    "\n",
    "    with Cluster(\"Customer1\"):\n",
    "        opszero1 = OrganizationsOrganizationalUnit(\"opsZero / Customer1\")\n",
    "        opszero1_bill = CostManagement(\"Customer1 (Bill)\")\n",
    "        customer1 = OrganizationsAccount(\"Customer1 (Account)\")\n",
    "\n",
    "    with Cluster(\"Customer2\"):\n",
    "        opszero2 = OrganizationsOrganizationalUnit(\"opsZero / Customer2\")\n",
    "        opszero2_bill = CostManagement(\"Customer2 (Bill)\")\n",
    "        customer2 = OrganizationsAccount(\"Customer2 (Account)\")\n",
    "        customer2_dev = OrganizationsAccount(\"Customer2 Dev (Account)\")\n",
    "\n",
    "    ingram >> opszero1 >> customer1\n",
    "    opszero1 >> opszero1_bill\n",
    "\n",
    "    ingram >> opszero2 >> [\n",
    "        customer2,\n",
    "        customer2_dev\n",
    "    ]\n",
    "    opszero2 >> opszero2_bill\n",
    "\n",
    "    opszero2_bill >> bill\n",
    "    opszero1_bill >> bill\n",
    "    bill >> ingram\n",
    "\n",
    "diag"
   ]
  }
 ],
 "metadata": {
  "kernelspec": {
   "display_name": "Python 3",
   "language": "python",
   "name": "python3"
  },
  "language_info": {
   "name": "python",
   "version": "3.10.13"
  }
 },
 "nbformat": 4,
 "nbformat_minor": 2
}
