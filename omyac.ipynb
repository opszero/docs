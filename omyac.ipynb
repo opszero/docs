{
 "cells": [
  {
   "cell_type": "markdown",
   "metadata": {},
   "source": []
  },
  {
   "attachments": {},
   "cell_type": "markdown",
   "metadata": {},
   "source": [
    "# Cloud Wastage\n",
    "\n",
    "## Storage and Bandwidth Optimization\n",
    "\n",
    "Storage and Bandwidth are likely the single largest cost centers on the Cloud.\n",
    "We optimize this by finding ways to cache the results or use Cloudflare to\n",
    "provide the frontend to reduce your costs.\n",
    "\n",
    "- Cloudflare Proxy\n",
    "- R2 Migration\n",
    "\n",
    "## CI/CD Optimization \n",
    "\n",
    "If you have significant costs using Github Actions it may make sense to migrate to\n",
    "[Self-Hosted Github Actions Runners](https://docs.github.com/en/actions/hosting-your-own-runners).\n",
    "This allows you to have your CI/CD within your own AWS account and take advantage of Cloud Native\n",
    "architecture to reduce the costs of your builds.\n",
    "\n",
    "- Performance. Increase performance by setting up the infrastructure built for your CI/CD workflow reducing build times.\n",
    "- Cost. By running within your own Cloud environment you can make use of Spot Instances and other savings to reduce your Cloud build.\n",
    "\n",
    "## Kubernetes Optimization\n",
    "\n",
    "Fine tuning limits and requests to pack more processes into your Kubernetes\n",
    "cluster allowing you to do more with less resources.\n",
    "\n",
    "## Resource Scheduling & Lifecycles\n",
    "\n",
    "We setup scheduling to turn on and off instances if anything is running that\n",
    "doesn't need to be run all the time. Further, we setup lifecycles to autodelete\n",
    "old container images, and instance restarts and upgrades. \n",
    "\n",
    "# Security\n",
    "\n",
    "We provide [Continuous compliance audits using\n",
    "CloudCheckr](https://cloudcheckr.com/solutions/cloud-compliance/) if you join our Group Billing."
   ]
  }
 ],
 "metadata": {
  "kernelspec": {
   "display_name": "Python 3",
   "language": "python",
   "name": "python3"
  },
  "language_info": {
   "codemirror_mode": {
    "name": "ipython",
    "version": 3
   },
   "file_extension": ".py",
   "mimetype": "text/x-python",
   "name": "python",
   "nbconvert_exporter": "python",
   "pygments_lexer": "ipython3",
   "version": "3.11.0"
  },
  "orig_nbformat": 4,
  "vscode": {
   "interpreter": {
    "hash": "82fe6529ecc6de2673ee01ecd0a986b3a7537f4814a8f8d48cad884ff6e51e45"
   }
  }
 },
 "nbformat": 4,
 "nbformat_minor": 2
}
